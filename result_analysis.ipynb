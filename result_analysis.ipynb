{
 "cells": [
  {
   "cell_type": "code",
   "execution_count": null,
   "metadata": {},
   "outputs": [
    {
     "ename": "ValueError",
     "evalue": "invalid literal for int() with base 10: '0.6391324996948242'",
     "output_type": "error",
     "traceback": [
      "\u001b[1;31m---------------------------------------------------------------------------\u001b[0m",
      "\u001b[1;31mValueError\u001b[0m                                Traceback (most recent call last)",
      "Cell \u001b[1;32mIn[2], line 21\u001b[0m\n\u001b[0;32m     19\u001b[0m filename_i \u001b[38;5;241m=\u001b[39m os\u001b[38;5;241m.\u001b[39mpath\u001b[38;5;241m.\u001b[39mjoin(output_path, \u001b[38;5;124mf\u001b[39m\u001b[38;5;124m\"\u001b[39m\u001b[38;5;124moutput_en_time_\u001b[39m\u001b[38;5;132;01m{\u001b[39;00mi\u001b[38;5;132;01m}\u001b[39;00m\u001b[38;5;124m.txt\u001b[39m\u001b[38;5;124m\"\u001b[39m)\n\u001b[0;32m     20\u001b[0m \u001b[38;5;28;01mwith\u001b[39;00m \u001b[38;5;28mopen\u001b[39m(filename_i) \u001b[38;5;28;01mas\u001b[39;00m f:\n\u001b[1;32m---> 21\u001b[0m     content \u001b[38;5;241m=\u001b[39m [\u001b[38;5;28;43mint\u001b[39;49m\u001b[43m(\u001b[49m\u001b[43mnb\u001b[49m\u001b[43m)\u001b[49m \u001b[38;5;28;01mfor\u001b[39;00m nb \u001b[38;5;129;01min\u001b[39;00m f\u001b[38;5;241m.\u001b[39mread()\u001b[38;5;241m.\u001b[39msplit(\u001b[38;5;124m'\u001b[39m\u001b[38;5;130;01m\\n\u001b[39;00m\u001b[38;5;124m'\u001b[39m)]\n\u001b[0;32m     22\u001b[0m liste_transcription_time\u001b[38;5;241m.\u001b[39mappend(content[\u001b[38;5;241m0\u001b[39m])\n\u001b[0;32m     23\u001b[0m liste_translation_time\u001b[38;5;241m.\u001b[39mappend(content[\u001b[38;5;241m1\u001b[39m])\n",
      "\u001b[1;31mValueError\u001b[0m: invalid literal for int() with base 10: '0.6391324996948242'"
     ]
    }
   ],
   "source": [
    "import numpy as np\n",
    "import os\n",
    "\n",
    "# file fr\n",
    "liste_transcription_time = []\n",
    "liste_translation_time = []\n",
    "liste_audio_gen_time = []\n",
    "\n",
    "for i in range(10):\n",
    "    output_path = \"wav_samples\"\n",
    "    filename_i = os.path.join(output_path, f\"output_fr_time_{i}.txt\")\n",
    "    with open(filename_i) as f:\n",
    "        content = [float(nb) for nb in f.read().split('\\n')]\n",
    "    liste_transcription_time.append(content[0])\n",
    "    liste_translation_time.append(content[1])\n",
    "    liste_audio_gen_time.append(content[2])\n",
    "\n",
    "for i in range(10):\n",
    "    filename_i = os.path.join(output_path, f\"output_en_time_{i}.txt\")\n",
    "    with open(filename_i) as f:\n",
    "        content = [float(nb) for nb in f.read().split('\\n')]\n",
    "    liste_transcription_time.append(content[0])\n",
    "    liste_translation_time.append(content[1])\n",
    "    liste_audio_gen_time.append(content[2])"
   ]
  },
  {
   "cell_type": "code",
   "execution_count": null,
   "metadata": {},
   "outputs": [],
   "source": [
    "ar_time_transcription =  np.array(liste_transcription_time)\n",
    "ar_time_translation =  np.array(liste_translation_time)\n",
    "ar_time_audio_gen =  np.array(liste_audio_gen_time)"
   ]
  },
  {
   "cell_type": "code",
   "execution_count": null,
   "metadata": {},
   "outputs": [],
   "source": [
    "print(ar_time_transcription.mean())\n",
    "print(ar_time_transcription.var())\n",
    "print(ar_time_transcription[:10].mean())\n",
    "print(ar_time_transcription[:10].var())"
   ]
  },
  {
   "cell_type": "code",
   "execution_count": null,
   "metadata": {},
   "outputs": [],
   "source": [
    "print(ar_time_translation[:10].mean())\n",
    "print(ar_time_translation[:10].var())\n",
    "print(ar_time_translation.mean())\n",
    "print(ar_time_translation.var())"
   ]
  },
  {
   "cell_type": "code",
   "execution_count": null,
   "metadata": {},
   "outputs": [],
   "source": [
    "print(ar_time_audio_gen[:10].mean())\n",
    "print(ar_time_audio_gen[:10].var())\n",
    "print(ar_time_audio_gen.mean())\n",
    "print(ar_time_audio_gen.var())"
   ]
  }
 ],
 "metadata": {
  "kernelspec": {
   "display_name": "venv_sts",
   "language": "python",
   "name": "python3"
  },
  "language_info": {
   "codemirror_mode": {
    "name": "ipython",
    "version": 3
   },
   "file_extension": ".py",
   "mimetype": "text/x-python",
   "name": "python",
   "nbconvert_exporter": "python",
   "pygments_lexer": "ipython3",
   "version": "3.12.7"
  }
 },
 "nbformat": 4,
 "nbformat_minor": 2
}
